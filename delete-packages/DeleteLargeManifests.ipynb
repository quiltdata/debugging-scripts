{
 "cells": [
  {
   "cell_type": "code",
   "execution_count": null,
   "metadata": {},
   "outputs": [],
   "source": [
    "import boto3\n",
    "import quilt3"
   ]
  },
  {
   "cell_type": "code",
   "execution_count": null,
   "metadata": {
    "scrolled": true
   },
   "outputs": [],
   "source": [
    "%env AWS_PROFILE=staging"
   ]
  },
  {
   "cell_type": "code",
   "execution_count": null,
   "metadata": {},
   "outputs": [],
   "source": [
    "bucket = \"quilt-bio-staging\""
   ]
  },
  {
   "cell_type": "code",
   "execution_count": null,
   "metadata": {},
   "outputs": [],
   "source": [
    "all_packages = quilt3.list_packages(f\"s3://{bucket}\")"
   ]
  },
  {
   "cell_type": "code",
   "execution_count": null,
   "metadata": {},
   "outputs": [],
   "source": [
    "maybe_problematic = [p for p in all_packages if p.startswith(\"odd\")]"
   ]
  },
  {
   "cell_type": "code",
   "execution_count": null,
   "metadata": {},
   "outputs": [],
   "source": [
    "maybe_problematic"
   ]
  },
  {
   "cell_type": "code",
   "execution_count": null,
   "metadata": {},
   "outputs": [],
   "source": [
    "s3 = boto3.client(\"s3\")\n",
    "problematic = []\n",
    "max_size_bytes = 20_000_000 = 20MB # adjust as needed, size in bytes\n",
    "for p in maybe_problematic:\n",
    "    for time, hash_ in quilt3.list_package_versions(p, f\"s3://{bucket}\"):\n",
    "        key = f\".quilt/packages/{hash_}\"\n",
    "        head = s3.head_object(Bucket=bucket_name, Key=key)\n",
    "        size = head.get(\"ContentLength\")\n",
    "        if size > max_size_bytes:\n",
    "            problematic.append({\n",
    "                \"Bucket\": bucket,\n",
    "                \"Package\": p,\n",
    "                \"Key\": key,\n",
    "                \"Size\": size,\n",
    "                \"TopHash\": hash_\n",
    "            })\n",
    "problematic"
   ]
  },
  {
   "cell_type": "markdown",
   "metadata": {},
   "source": [
    "# Caution: real DELETE happens next"
   ]
  },
  {
   "cell_type": "code",
   "execution_count": null,
   "metadata": {},
   "outputs": [],
   "source": [
    "# delete from Quilt package revisions\n",
    "for p in problematic:\n",
    "    quilt3.delete_package(\n",
    "        p['Package'],\n",
    "        registry=f\"s3://{p['Bucket']}\",\n",
    "        top_hash=p['TopHash']\n",
    "    )"
   ]
  },
  {
   "cell_type": "code",
   "execution_count": null,
   "metadata": {},
   "outputs": [],
   "source": [
    "# deep delete manifest from S3\n",
    "for p in problematic:\n",
    "    s3.delete_object(\n",
    "        Bucket=bucket,\n",
    "        Key=p['Key']\n",
    "    )"
   ]
  },
  {
   "cell_type": "code",
   "execution_count": null,
   "metadata": {},
   "outputs": [],
   "source": []
  }
 ],
 "metadata": {
  "kernelspec": {
   "display_name": "Python 3",
   "language": "python",
   "name": "python3"
  },
  "language_info": {
   "codemirror_mode": {
    "name": "ipython",
    "version": 3
   },
   "file_extension": ".py",
   "mimetype": "text/x-python",
   "name": "python",
   "nbconvert_exporter": "python",
   "pygments_lexer": "ipython3",
   "version": "3.7.8"
  }
 },
 "nbformat": 4,
 "nbformat_minor": 4
}
