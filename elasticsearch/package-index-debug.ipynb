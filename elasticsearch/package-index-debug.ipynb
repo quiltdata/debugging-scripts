{
 "cells": [
  {
   "cell_type": "code",
   "execution_count": null,
   "metadata": {},
   "outputs": [],
   "source": [
    "# TODO: Fix/documenent auth: auth failed when the script was runned on the customer side."
   ]
  },
  {
   "cell_type": "code",
   "execution_count": null,
   "metadata": {},
   "outputs": [],
   "source": [
    "%pip install boto3 aws_requests_auth 'elasticsearch<7'"
   ]
  },
  {
   "cell_type": "code",
   "execution_count": null,
   "metadata": {},
   "outputs": [],
   "source": [
    "import datetime\n",
    "import json\n",
    "import os\n",
    "import warnings\n",
    "\n",
    "import boto3\n",
    "from aws_requests_auth.boto_utils import BotoAWSRequestsAuth\n",
    "from elasticsearch import Elasticsearch, RequestsHttpConnection\n",
    "import elasticsearch.helpers\n",
    "\n",
    "# set these vars\n",
    "ES_REGION = 'us-west-2'\n",
    "es_host = \"search-aneesh-search-1mutuaqa458he-lpxijlld77ln5u4msy5otp4kra.us-west-2.es.amazonaws.com\"\n",
    "BUCKET_NAME = 'quilt-t4-staging'\n",
    "\n",
    "auth = BotoAWSRequestsAuth(\n",
    "    aws_host=es_host,\n",
    "    aws_region=ES_REGION,\n",
    "    aws_service='es'\n",
    ")\n",
    "\n",
    "es_client = Elasticsearch(\n",
    "    hosts=[{\"host\": f\"{es_host}\", \"port\": 443}],\n",
    "    http_auth=auth,\n",
    "    use_ssl=True,\n",
    "    verify_certs=True,\n",
    "    connection_class=RequestsHttpConnection,\n",
    "    timeout=60\n",
    ")\n",
    "\n",
    "s3_client = boto3.client('s3')\n",
    "\n",
    "def store_debug_data(filename, data):\n",
    "    filename = f'debug-data/{BUCKET_NAME}/{filename}'\n",
    "    os.makedirs(os.path.dirname(filename), exist_ok=True)\n",
    "    with open(filename, 'wb') as f:\n",
    "        f.write(data)\n",
    "    \n",
    "def json_dump_default(obj):\n",
    "    if isinstance(obj, datetime.datetime):\n",
    "        return str(obj)\n",
    "    raise TypeError"
   ]
  },
  {
   "cell_type": "code",
   "execution_count": null,
   "metadata": {},
   "outputs": [],
   "source": [
    "indices = es_client.indices.get(f'{BUCKET_NAME},{BUCKET_NAME}_packages')\n",
    "if len(indices) != 2:\n",
    "    warnings.warn('there should be 2 indices!')\n",
    "store_debug_data('es/bucket-related-indices.json', json.dumps(indices).encode())\n",
    "store_debug_data('es/all-indices.json', json.dumps(es_client.indices.get('*')).encode())"
   ]
  },
  {
   "cell_type": "code",
   "execution_count": null,
   "metadata": {},
   "outputs": [],
   "source": [
    "bucket_notification_conf = s3_client.get_bucket_notification_configuration(Bucket=BUCKET_NAME)\n",
    "store_debug_data('s3/notification-conf.json', json.dumps(bucket_notification_conf).encode())"
   ]
  },
  {
   "cell_type": "code",
   "execution_count": null,
   "metadata": {},
   "outputs": [],
   "source": [
    "sns_topics = {x['TopicArn'] for x in bucket_notification_conf.get('TopicConfigurations', ())}\n",
    "subscriptions = {}\n",
    "if sns_topics:\n",
    "    bucket_location = s3_client.get_bucket_location(Bucket=BUCKET_NAME)['LocationConstraint'] or 'us-east-1'\n",
    "    sns_client = boto3.client('sns', region_name=bucket_location)\n",
    "    subscriptions = {\n",
    "        topic: sns_client.list_subscriptions_by_topic(TopicArn=topic)['Subscriptions']\n",
    "        for topic in sns_topics\n",
    "    }\n",
    "else:\n",
    "    warnings.warn('no S3 notifications configured!')\n",
    "store_debug_data('s3/notification-subscriptions.json', json.dumps(subscriptions).encode())"
   ]
  },
  {
   "cell_type": "code",
   "execution_count": null,
   "metadata": {},
   "outputs": [],
   "source": [
    "versions_buf = bytearray()\n",
    "delete_markers_buf = bytearray()\n",
    "for resp in s3_client.get_paginator('list_object_versions').paginate(Bucket=BUCKET_NAME, Prefix='.quilt/'):\n",
    "    for obj in resp.get('Versions', ()):\n",
    "        versions_buf += json.dumps(obj, default=json_dump_default).encode()\n",
    "        versions_buf += b'\\n'\n",
    "    for obj in resp.get('DeleteMarkers', ()):\n",
    "        delete_markers_buf += json.dumps(obj, default=json_dump_default).encode()\n",
    "        delete_markers_buf += b'\\n'\n",
    "store_debug_data('s3/object-versions.jsonl', versions_buf)\n",
    "store_debug_data('s3/delete-markers.jsonl', delete_markers_buf)"
   ]
  },
  {
   "cell_type": "code",
   "execution_count": null,
   "metadata": {},
   "outputs": [],
   "source": [
    "buf = bytearray()\n",
    "for obj in elasticsearch.helpers.scan(\n",
    "    es_client,\n",
    "    query={\"query\": {\"match_all\": {}}},\n",
    "    index=f\"{BUCKET_NAME}_packages\",\n",
    "):\n",
    "    buf += json.dumps(obj).encode()\n",
    "    buf += b'\\n'\n",
    "store_debug_data('es/packages-index-data.jsonl', buf)"
   ]
  }
 ],
 "metadata": {
  "kernelspec": {
   "display_name": "Python 3",
   "language": "python",
   "name": "python3"
  },
  "language_info": {
   "codemirror_mode": {
    "name": "ipython",
    "version": 3
   },
   "file_extension": ".py",
   "mimetype": "text/x-python",
   "name": "python",
   "nbconvert_exporter": "python",
   "pygments_lexer": "ipython3",
   "version": "3.9.1+"
  }
 },
 "nbformat": 4,
 "nbformat_minor": 4
}
